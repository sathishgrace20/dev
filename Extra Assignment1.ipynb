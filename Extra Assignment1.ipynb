{
 "cells": [
  {
   "cell_type": "code",
   "execution_count": 65,
   "id": "284adb8e-87bc-4786-8311-5d35bb72d303",
   "metadata": {},
   "outputs": [
    {
     "name": "stdout",
     "output_type": "stream",
     "text": [
      "HOPE AI\n"
     ]
    }
   ],
   "source": [
    "#Q1.Print Statement\n",
    "print(\"HOPE AI\")"
   ]
  },
  {
   "cell_type": "code",
   "execution_count": 67,
   "id": "fd04f2f5-fed2-4780-bd35-7fc7f58c4f68",
   "metadata": {},
   "outputs": [
    {
     "name": "stdin",
     "output_type": "stream",
     "text": [
      "Enter your institute nmae?: HOPI AI\n"
     ]
    }
   ],
   "source": [
    "#Q2.Buy Inputs\n",
    "name=input(\"Enter your institute nmae?:\")\n",
    "        "
   ]
  },
  {
   "cell_type": "code",
   "execution_count": 69,
   "id": "cefe5141-67e4-45e5-8e28-20406e111d6d",
   "metadata": {},
   "outputs": [
    {
     "name": "stdin",
     "output_type": "stream",
     "text": [
      "Enter your name: Raj\n",
      "Enter your age: 15\n",
      "Enter you school name: Guru School\n",
      "Entr your degree: B.E CSE\n"
     ]
    }
   ],
   "source": [
    "#Q3.Buy inputs\n",
    "Name=input(\"Enter your name:\")\n",
    "age=int(input(\"Enter your age:\"))\n",
    "schoolName=input(\"Enter you school name:\")\n",
    "Degree=input(\"Entr your degree:\")\n",
    "#print(\"Enter your Name:\",Name) \n",
    "#print(\"Enter your age:\",age)\n",
    "#print(\"Enter your school name:\",schoolName)\n",
    "#print(\"Enter you degree:\",Degree)\n"
   ]
  },
  {
   "cell_type": "code",
   "execution_count": 71,
   "id": "d1e89e9c-2666-4e0f-8840-c44b52ae4890",
   "metadata": {},
   "outputs": [
    {
     "name": "stdout",
     "output_type": "stream",
     "text": [
      "a=43\n",
      "b=34\n",
      "add= 77\n"
     ]
    }
   ],
   "source": [
    "#4.Addition\n",
    "a=43\n",
    "b=34\n",
    "add=a+b\n",
    "print(\"a=43\")\n",
    "print(\"b=34\")\n",
    "print(\"add=\",add)"
   ]
  },
  {
   "cell_type": "code",
   "execution_count": 73,
   "id": "f057944f-1dd4-4dc8-bfac-d160122806b2",
   "metadata": {},
   "outputs": [
    {
     "name": "stdout",
     "output_type": "stream",
     "text": [
      "a=43\n",
      "b=34\n",
      "sub= 9\n"
     ]
    }
   ],
   "source": [
    "#Q5.Subtraction\n",
    "a=43\n",
    "b=34\n",
    "sub=a-b\n",
    "print(\"a=43\")\n",
    "print(\"b=34\")\n",
    "print(\"sub=\",sub)"
   ]
  },
  {
   "cell_type": "code",
   "execution_count": 57,
   "id": "9e72b11a-f0f5-4036-ad2e-5d992d21bb02",
   "metadata": {},
   "outputs": [
    {
     "name": "stdout",
     "output_type": "stream",
     "text": [
      "a=76\n",
      "b=32\n",
      "Float Division= 2.4516129032258065\n"
     ]
    }
   ],
   "source": [
    "#Q6.Division\n",
    "a=76\n",
    "b=31\n",
    "division=a/b\n",
    "print(\"a=76\")\n",
    "print(\"b=32\")\n",
    "print(\"Float Div=\",division)\n"
   ]
  },
  {
   "cell_type": "code",
   "execution_count": 59,
   "id": "c5b315ce-4fae-4431-886f-b200c339bed6",
   "metadata": {},
   "outputs": [
    {
     "name": "stdout",
     "output_type": "stream",
     "text": [
      "a=76\n",
      "b=32\n",
      "Floor Division= 2\n"
     ]
    }
   ],
   "source": [
    "#Q7.Floor Division\n",
    "a=76\n",
    "b=31\n",
    "division=a//b\n",
    "print(\"a=76\")\n",
    "print(\"b=32\")\n",
    "print(\"Floor Div=\",division)"
   ]
  },
  {
   "cell_type": "code",
   "execution_count": 61,
   "id": "0dc1cc24-f5b9-43f2-8178-71191f8e0c4c",
   "metadata": {},
   "outputs": [
    {
     "name": "stdout",
     "output_type": "stream",
     "text": [
      "a=76\n",
      "b=32\n",
      "Modulo Division= 14\n"
     ]
    }
   ],
   "source": [
    "#Q8.Modulo\n",
    "a=76\n",
    "b=31\n",
    "division=a%b\n",
    "print(\"a=76\")\n",
    "print(\"b=32\")\n",
    "print(\"Modulo =\",division)"
   ]
  },
  {
   "cell_type": "code",
   "execution_count": 63,
   "id": "7e21f280-b526-464a-a64e-09b96b7de5a8",
   "metadata": {},
   "outputs": [
    {
     "name": "stdout",
     "output_type": "stream",
     "text": [
      "a=4\n",
      "b=4\n",
      "Power= 256\n"
     ]
    }
   ],
   "source": [
    "#9.Power\n",
    "a=4\n",
    "b=4\n",
    "power=a**b\n",
    "print(\"a=4\")\n",
    "print(\"b=4\")\n",
    "print(\"Power=\",power)"
   ]
  },
  {
   "cell_type": "code",
   "execution_count": null,
   "id": "828ec60c-4b31-4afb-b880-5afce90b59f1",
   "metadata": {},
   "outputs": [],
   "source": []
  }
 ],
 "metadata": {
  "kernelspec": {
   "display_name": "Python [conda env:base] *",
   "language": "python",
   "name": "conda-base-py"
  },
  "language_info": {
   "codemirror_mode": {
    "name": "ipython",
    "version": 3
   },
   "file_extension": ".py",
   "mimetype": "text/x-python",
   "name": "python",
   "nbconvert_exporter": "python",
   "pygments_lexer": "ipython3",
   "version": "3.12.7"
  }
 },
 "nbformat": 4,
 "nbformat_minor": 5
}
