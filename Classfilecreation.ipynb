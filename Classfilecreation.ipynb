{
 "cells": [
  {
   "cell_type": "code",
   "execution_count": 1,
   "id": "460bc74f-e1e5-4601-a5f5-16a1aca57621",
   "metadata": {},
   "outputs": [],
   "source": [
    "from SubmodulesAI import SubfieldsinAI"
   ]
  },
  {
   "cell_type": "code",
   "execution_count": 3,
   "id": "46d68cce-3020-481f-a5f2-cfae6ce0105a",
   "metadata": {},
   "outputs": [
    {
     "name": "stdin",
     "output_type": "stream",
     "text": [
      "Enter a Number: 34\n"
     ]
    },
    {
     "name": "stdout",
     "output_type": "stream",
     "text": [
      "34 is Even Number\n"
     ]
    },
    {
     "data": {
      "text/plain": [
       "(34, 'is Even Numner')"
      ]
     },
     "execution_count": 3,
     "metadata": {},
     "output_type": "execute_result"
    }
   ],
   "source": [
    "SubfieldsinAI.OddEven()"
   ]
  },
  {
   "cell_type": "code",
   "execution_count": 5,
   "id": "70fbd6c1-f72c-426a-b854-a1712ca91e7e",
   "metadata": {},
   "outputs": [
    {
     "name": "stdin",
     "output_type": "stream",
     "text": [
      "Your Gender: Male\n",
      "Your Age: 20\n"
     ]
    },
    {
     "name": "stdout",
     "output_type": "stream",
     "text": [
      "NOT ELIGIBLE\n"
     ]
    },
    {
     "data": {
      "text/plain": [
       "'Not Eligible'"
      ]
     },
     "execution_count": 5,
     "metadata": {},
     "output_type": "execute_result"
    }
   ],
   "source": [
    "SubfieldsinAI.Marriageeligible()"
   ]
  },
  {
   "cell_type": "code",
   "execution_count": 9,
   "id": "22698e5f-f376-45a6-9a51-dc5d4e453e86",
   "metadata": {},
   "outputs": [
    {
     "name": "stdin",
     "output_type": "stream",
     "text": [
      "Subject1= 98\n",
      "Subject2= 67\n",
      "Subject3= 78\n",
      "Subject4= 95\n",
      "Subject5= 95\n"
     ]
    },
    {
     "name": "stdout",
     "output_type": "stream",
     "text": [
      "Total= 433\n",
      "Percentage= 86.6\n"
     ]
    },
    {
     "data": {
      "text/plain": [
       "86.6"
      ]
     },
     "execution_count": 9,
     "metadata": {},
     "output_type": "execute_result"
    }
   ],
   "source": [
    "SubfieldsinAI.percentage()"
   ]
  },
  {
   "cell_type": "code",
   "execution_count": null,
   "id": "f0f941d5-8601-4080-ae9e-eb623d3a812e",
   "metadata": {},
   "outputs": [],
   "source": []
  }
 ],
 "metadata": {
  "kernelspec": {
   "display_name": "Python [conda env:base] *",
   "language": "python",
   "name": "conda-base-py"
  },
  "language_info": {
   "codemirror_mode": {
    "name": "ipython",
    "version": 3
   },
   "file_extension": ".py",
   "mimetype": "text/x-python",
   "name": "python",
   "nbconvert_exporter": "python",
   "pygments_lexer": "ipython3",
   "version": "3.12.7"
  }
 },
 "nbformat": 4,
 "nbformat_minor": 5
}
